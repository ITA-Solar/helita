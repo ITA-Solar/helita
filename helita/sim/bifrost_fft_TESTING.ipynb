{
 "cells": [
  {
   "cell_type": "code",
   "execution_count": 1,
   "metadata": {
    "collapsed": true
   },
   "outputs": [],
   "source": [
    "from helita.sim import bifrost_fft as br\n",
    "import matplotlib.pyplot as plt\n",
    "import numpy as np"
   ]
  },
  {
   "cell_type": "code",
   "execution_count": 2,
   "metadata": {},
   "outputs": [],
   "source": [
    "dd = br.FFTData(file_root = 'cb10f', fdir = '/net/opal/Volumes/Amnesia/mpi3drun/Granflux')\n",
    "tester = br.test()"
   ]
  },
  {
   "cell_type": "code",
   "execution_count": 6,
   "metadata": {},
   "outputs": [
    {
     "data": {
      "text/plain": [
       "{'freq': array([-0.49751244, -0.49253731, -0.48756219, -0.48258706, -0.47761194,\n",
       "        -0.47263682, -0.46766169, -0.46268657, -0.45771144, -0.45273632,\n",
       "        -0.44776119, -0.44278607, -0.43781095, -0.43283582, -0.4278607 ,\n",
       "        -0.42288557, -0.41791045, -0.41293532, -0.4079602 , -0.40298507,\n",
       "        -0.39800995, -0.39303483, -0.3880597 , -0.38308458, -0.37810945,\n",
       "        -0.37313433, -0.3681592 , -0.36318408, -0.35820896, -0.35323383,\n",
       "        -0.34825871, -0.34328358, -0.33830846, -0.33333333, -0.32835821,\n",
       "        -0.32338308, -0.31840796, -0.31343284, -0.30845771, -0.30348259,\n",
       "        -0.29850746, -0.29353234, -0.28855721, -0.28358209, -0.27860697,\n",
       "        -0.27363184, -0.26865672, -0.26368159, -0.25870647, -0.25373134,\n",
       "        -0.24875622, -0.24378109, -0.23880597, -0.23383085, -0.22885572,\n",
       "        -0.2238806 , -0.21890547, -0.21393035, -0.20895522, -0.2039801 ,\n",
       "        -0.19900498, -0.19402985, -0.18905473, -0.1840796 , -0.17910448,\n",
       "        -0.17412935, -0.16915423, -0.1641791 , -0.15920398, -0.15422886,\n",
       "        -0.14925373, -0.14427861, -0.13930348, -0.13432836, -0.12935323,\n",
       "        -0.12437811, -0.11940299, -0.11442786, -0.10945274, -0.10447761,\n",
       "        -0.09950249, -0.09452736, -0.08955224, -0.08457711, -0.07960199,\n",
       "        -0.07462687, -0.06965174, -0.06467662, -0.05970149, -0.05472637,\n",
       "        -0.04975124, -0.04477612, -0.039801  , -0.03482587, -0.02985075,\n",
       "        -0.02487562, -0.0199005 , -0.01492537, -0.00995025, -0.00497512,\n",
       "         0.        ,  0.00497512,  0.00995025,  0.01492537,  0.0199005 ,\n",
       "         0.02487562,  0.02985075,  0.03482587,  0.039801  ,  0.04477612,\n",
       "         0.04975124,  0.05472637,  0.05970149,  0.06467662,  0.06965174,\n",
       "         0.07462687,  0.07960199,  0.08457711,  0.08955224,  0.09452736,\n",
       "         0.09950249,  0.10447761,  0.10945274,  0.11442786,  0.11940299,\n",
       "         0.12437811,  0.12935323,  0.13432836,  0.13930348,  0.14427861,\n",
       "         0.14925373,  0.15422886,  0.15920398,  0.1641791 ,  0.16915423,\n",
       "         0.17412935,  0.17910448,  0.1840796 ,  0.18905473,  0.19402985,\n",
       "         0.19900498,  0.2039801 ,  0.20895522,  0.21393035,  0.21890547,\n",
       "         0.2238806 ,  0.22885572,  0.23383085,  0.23880597,  0.24378109,\n",
       "         0.24875622,  0.25373134,  0.25870647,  0.26368159,  0.26865672,\n",
       "         0.27363184,  0.27860697,  0.28358209,  0.28855721,  0.29353234,\n",
       "         0.29850746,  0.30348259,  0.30845771,  0.31343284,  0.31840796,\n",
       "         0.32338308,  0.32835821,  0.33333333,  0.33830846,  0.34328358,\n",
       "         0.34825871,  0.35323383,  0.35820896,  0.36318408,  0.3681592 ,\n",
       "         0.37313433,  0.37810945,  0.38308458,  0.3880597 ,  0.39303483,\n",
       "         0.39800995,  0.40298507,  0.4079602 ,  0.41293532,  0.41791045,\n",
       "         0.42288557,  0.4278607 ,  0.43283582,  0.43781095,  0.44278607,\n",
       "         0.44776119,  0.45273632,  0.45771144,  0.46268657,  0.46766169,\n",
       "         0.47263682,  0.47761194,  0.48258706,  0.48756219,  0.49253731,\n",
       "         0.49751244]),\n",
       " 'ftCube': array([  1.57097353e-02,   1.57135758e-02,   1.57212615e-02,\n",
       "          1.57328018e-02,   1.57482109e-02,   1.57675077e-02,\n",
       "          1.57907159e-02,   1.58178643e-02,   1.58489865e-02,\n",
       "          1.58841214e-02,   1.59233128e-02,   1.59666103e-02,\n",
       "          1.60140686e-02,   1.60657483e-02,   1.61217158e-02,\n",
       "          1.61820437e-02,   1.62468108e-02,   1.63161024e-02,\n",
       "          1.63900110e-02,   1.64686359e-02,   1.65520842e-02,\n",
       "          1.66404706e-02,   1.67339185e-02,   1.68325596e-02,\n",
       "          1.69365352e-02,   1.70459960e-02,   1.71611033e-02,\n",
       "          1.72820293e-02,   1.74089575e-02,   1.75420842e-02,\n",
       "          1.76816187e-02,   1.78277842e-02,   1.79808191e-02,\n",
       "          1.81409779e-02,   1.83085321e-02,   1.84837718e-02,\n",
       "          1.86670071e-02,   1.88585693e-02,   1.90588128e-02,\n",
       "          1.92681169e-02,   1.94868879e-02,   1.97155610e-02,\n",
       "          1.99546032e-02,   2.02045158e-02,   2.04658374e-02,\n",
       "          2.07391473e-02,   2.10250692e-02,   2.13242756e-02,\n",
       "          2.16374919e-02,   2.19655021e-02,   2.23091543e-02,\n",
       "          2.26693675e-02,   2.30471387e-02,   2.34435511e-02,\n",
       "          2.38597840e-02,   2.42971229e-02,   2.47569716e-02,\n",
       "          2.52408664e-02,   2.57504916e-02,   2.62876973e-02,\n",
       "          2.68545208e-02,   2.74532101e-02,   2.80862521e-02,\n",
       "          2.87564045e-02,   2.94667341e-02,   3.02206607e-02,\n",
       "          3.10220095e-02,   3.18750726e-02,   3.27846827e-02,\n",
       "          3.37563000e-02,   3.47961184e-02,   3.59111921e-02,\n",
       "          3.71095904e-02,   3.84005874e-02,   3.97948950e-02,\n",
       "          4.13049536e-02,   4.29452951e-02,   4.47330024e-02,\n",
       "          4.66882959e-02,   4.88352890e-02,   5.12029750e-02,\n",
       "          5.38265299e-02,   5.67490581e-02,   6.00239663e-02,\n",
       "          6.37182487e-02,   6.79171205e-02,   7.27306940e-02,\n",
       "          7.83038417e-02,   8.48311792e-02,   9.25805923e-02,\n",
       "          1.01931633e-01,   1.13441157e-01,   1.27962073e-01,\n",
       "          1.46873933e-01,   1.72573765e-01,   2.09658629e-01,\n",
       "          2.68331962e-01,   3.77455140e-01,   6.72300629e-01,\n",
       "          1.00245213e+02,   1.14665222e-15,   1.00245213e+02,\n",
       "          6.72300629e-01,   3.77455140e-01,   2.68331962e-01,\n",
       "          2.09658629e-01,   1.72573765e-01,   1.46873933e-01,\n",
       "          1.27962073e-01,   1.13441157e-01,   1.01931633e-01,\n",
       "          9.25805923e-02,   8.48311792e-02,   7.83038417e-02,\n",
       "          7.27306940e-02,   6.79171205e-02,   6.37182487e-02,\n",
       "          6.00239663e-02,   5.67490581e-02,   5.38265299e-02,\n",
       "          5.12029750e-02,   4.88352890e-02,   4.66882959e-02,\n",
       "          4.47330024e-02,   4.29452951e-02,   4.13049536e-02,\n",
       "          3.97948950e-02,   3.84005874e-02,   3.71095904e-02,\n",
       "          3.59111921e-02,   3.47961184e-02,   3.37563000e-02,\n",
       "          3.27846827e-02,   3.18750726e-02,   3.10220095e-02,\n",
       "          3.02206607e-02,   2.94667341e-02,   2.87564045e-02,\n",
       "          2.80862521e-02,   2.74532101e-02,   2.68545208e-02,\n",
       "          2.62876973e-02,   2.57504916e-02,   2.52408664e-02,\n",
       "          2.47569716e-02,   2.42971229e-02,   2.38597840e-02,\n",
       "          2.34435511e-02,   2.30471387e-02,   2.26693675e-02,\n",
       "          2.23091543e-02,   2.19655021e-02,   2.16374919e-02,\n",
       "          2.13242756e-02,   2.10250692e-02,   2.07391473e-02,\n",
       "          2.04658374e-02,   2.02045158e-02,   1.99546032e-02,\n",
       "          1.97155610e-02,   1.94868879e-02,   1.92681169e-02,\n",
       "          1.90588128e-02,   1.88585693e-02,   1.86670071e-02,\n",
       "          1.84837718e-02,   1.83085321e-02,   1.81409779e-02,\n",
       "          1.79808191e-02,   1.78277842e-02,   1.76816187e-02,\n",
       "          1.75420842e-02,   1.74089575e-02,   1.72820293e-02,\n",
       "          1.71611033e-02,   1.70459960e-02,   1.69365352e-02,\n",
       "          1.68325596e-02,   1.67339185e-02,   1.66404706e-02,\n",
       "          1.65520842e-02,   1.64686359e-02,   1.63900110e-02,\n",
       "          1.63161024e-02,   1.62468108e-02,   1.61820437e-02,\n",
       "          1.61217158e-02,   1.60657483e-02,   1.60140686e-02,\n",
       "          1.59666103e-02,   1.59233128e-02,   1.58841214e-02,\n",
       "          1.58489865e-02,   1.58178643e-02,   1.57907159e-02,\n",
       "          1.57675077e-02,   1.57482109e-02,   1.57328018e-02,\n",
       "          1.57212615e-02,   1.57135758e-02,   1.57097353e-02])}"
      ]
     },
     "execution_count": 6,
     "metadata": {},
     "output_type": "execute_result"
    }
   ],
   "source": [
    "tester"
   ]
  },
  {
   "cell_type": "code",
   "execution_count": 5,
   "metadata": {},
   "outputs": [
    {
     "data": {
      "image/png": "[encoded data removed]",
      "text/plain": [
       "<matplotlib.figure.Figure at 0x2d2dbb4e0>"
      ]
     },
     "metadata": {},
     "output_type": "display_data"
    }
   ],
   "source": [
    "plt.plot(tester['freq'], tester['ftCube'])\n",
    "plt.show()"
   ]
  },
  {
   "cell_type": "code",
   "execution_count": null,
   "metadata": {
    "collapsed": true
   },
   "outputs": [],
   "source": []
  }
 ],
 "metadata": {
  "kernelspec": {
   "display_name": "Python 3",
   "language": "python",
   "name": "python3"
  },
  "language_info": {
   "codemirror_mode": {
    "name": "ipython",
    "version": 3
   },
   "file_extension": ".py",
   "mimetype": "text/x-python",
   "name": "python",
   "nbconvert_exporter": "python",
   "pygments_lexer": "ipython3",
   "version": "3.6.1"
  }
 },
 "nbformat": 4,
 "nbformat_minor": 2
}
